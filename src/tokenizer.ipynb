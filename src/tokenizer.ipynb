{
 "cells": [
  {
   "cell_type": "code",
   "execution_count": 11,
   "id": "05ac5c5d-ee14-4d04-8b12-d16b5e24325a",
   "metadata": {},
   "outputs": [],
   "source": [
    "# Load our dataset\n",
    "import pandas as pd \n",
    "import numpy as np\n",
    "from sklearn.model_selection import train_test_split\n",
    "\n",
    "df = pd.read_csv(\"./data/trump-speech-data.csv\")\n",
    "\n",
    "X_train, X_test = train_test_split(df.transcript, test_size=0.2, random_state=1)\n",
    "\n",
    "np.savetxt(r'./data/speeches.txt', df.transcript.values, fmt='%s')\n",
    "\n",
    "np.savetxt(r'./data/speeches-train.txt', X_train, fmt='%s')\n",
    "np.savetxt(r'./data/speeches-eval.txt', X_test, fmt='%s')\n"
   ]
  },
  {
   "cell_type": "code",
   "execution_count": 13,
   "id": "2b4278a1-4241-4e17-89f6-b79d75a69e7f",
   "metadata": {},
   "outputs": [
    {
     "name": "stdout",
     "output_type": "stream",
     "text": [
      "\n",
      "\n",
      "\n"
     ]
    },
    {
     "data": {
      "text/plain": [
       "['models/impgen-tokenizer/vocab.json', 'models/impgen-tokenizer/merges.txt']"
      ]
     },
     "execution_count": 13,
     "metadata": {},
     "output_type": "execute_result"
    }
   ],
   "source": [
    "from pathlib import Path\n",
    "\n",
    "from tokenizers import ByteLevelBPETokenizer\n",
    "\n",
    "paths = [str(x) for x in Path(\"./data/\").glob(\"**/*.txt\")]\n",
    "\n",
    "# Initialize a tokenizer\n",
    "tokenizer = ByteLevelBPETokenizer()\n",
    "\n",
    "# Customize training\n",
    "tokenizer.train(files=paths, vocab_size=52_000, min_frequency=2, special_tokens=[\n",
    "    \"<s>\",\n",
    "    \"<pad>\",\n",
    "    \"</s>\",\n",
    "    \"<unk>\",\n",
    "    \"<mask>\",\n",
    "])\n",
    "\n",
    "tokenizer.save_model(\"models/impgen-tokenizer\")"
   ]
  }
 ],
 "metadata": {
  "kernelspec": {
   "display_name": "Python 3 (ipykernel)",
   "language": "python",
   "name": "python3"
  },
  "language_info": {
   "codemirror_mode": {
    "name": "ipython",
    "version": 3
   },
   "file_extension": ".py",
   "mimetype": "text/x-python",
   "name": "python",
   "nbconvert_exporter": "python",
   "pygments_lexer": "ipython3",
   "version": "3.9.13"
  }
 },
 "nbformat": 4,
 "nbformat_minor": 5
}
