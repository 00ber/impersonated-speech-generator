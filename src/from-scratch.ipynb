{
 "cells": [
  {
   "cell_type": "code",
   "execution_count": 1,
   "id": "7105a362-9a12-43ed-bb0c-472eeea3273c",
   "metadata": {},
   "outputs": [
    {
     "name": "stderr",
     "output_type": "stream",
     "text": [
      "2023-03-23 02:28:54.824225: I tensorflow/core/platform/cpu_feature_guard.cc:193] This TensorFlow binary is optimized with oneAPI Deep Neural Network Library (oneDNN) to use the following CPU instructions in performance-critical operations:  AVX2 FMA\n",
      "To enable them in other operations, rebuild TensorFlow with the appropriate compiler flags.\n",
      "2023-03-23 02:28:57.292017: W tensorflow/compiler/xla/stream_executor/platform/default/dso_loader.cc:64] Could not load dynamic library 'libnvinfer.so.7'; dlerror: libnvinfer.so.7: cannot open shared object file: No such file or directory\n",
      "2023-03-23 02:28:57.292309: W tensorflow/compiler/xla/stream_executor/platform/default/dso_loader.cc:64] Could not load dynamic library 'libnvinfer_plugin.so.7'; dlerror: libnvinfer_plugin.so.7: cannot open shared object file: No such file or directory\n",
      "2023-03-23 02:28:57.292322: W tensorflow/compiler/tf2tensorrt/utils/py_utils.cc:38] TF-TRT Warning: Cannot dlopen some TensorRT libraries. If you would like to use Nvidia GPU with TensorRT, please make sure the missing libraries mentioned above are installed properly.\n",
      "Found cached dataset text (/home/jovyan/.cache/huggingface/datasets/text/default-13f07c76466abf35/0.0.0/cb1e9bd71a82ad27976be3b12b407850fe2837d80c22c5e03a28949843a8ace2)\n"
     ]
    },
    {
     "data": {
      "application/vnd.jupyter.widget-view+json": {
       "model_id": "503944bd452c4586b5fd6daefb8e3f80",
       "version_major": 2,
       "version_minor": 0
      },
      "text/plain": [
       "  0%|          | 0/1 [00:00<?, ?it/s]"
      ]
     },
     "metadata": {},
     "output_type": "display_data"
    }
   ],
   "source": [
    "from transformers import GPT2Config, GPT2LMHeadModel, GPT2Tokenizer, DataCollatorForLanguageModeling\n",
    "from datasets import load_dataset\n",
    "from transformers import Trainer, TrainingArguments    \n",
    "    \n",
    "tokenizer = GPT2Tokenizer.from_pretrained(\"./models/impgen-tokenizer\")\n",
    "tokenizer.add_special_tokens({\n",
    "    \"eos_token\": \"</s>\",\n",
    "    \"bos_token\": \"<s>\",\n",
    "    \"unk_token\": \"<unk>\",\n",
    "    \"pad_token\": \"<pad>\",\n",
    "    \"mask_token\": \"<mask>\"\n",
    "})\n",
    "config = GPT2Config(\n",
    "    vocab_size=tokenizer.vocab_size,\n",
    "    bos_token=tokenizer.bos_token_id,\n",
    "    eos_token=tokenizer.eos_token_id\n",
    ")\n",
    "\n",
    "\n",
    "model = GPT2LMHeadModel(config)\n",
    "dataset = load_dataset(\"text\", data_files=[\"./data/speeches.txt\"])"
   ]
  },
  {
   "cell_type": "code",
   "execution_count": 2,
   "id": "038a906c-1177-4217-b69e-e74e3e7e424e",
   "metadata": {},
   "outputs": [],
   "source": [
    "def encode(lines):\n",
    "    return tokenizer(lines[\"text\"], add_special_tokens=True, truncation=True, max_length=512)\n",
    "\n",
    "dataset.set_transform(encode)"
   ]
  },
  {
   "cell_type": "code",
   "execution_count": 3,
   "id": "3e4b1ad5-d5fb-4bed-b112-f35d1c363903",
   "metadata": {},
   "outputs": [
    {
     "name": "stderr",
     "output_type": "stream",
     "text": [
      "/opt/conda/lib/python3.9/site-packages/transformers/optimization.py:391: FutureWarning: This implementation of AdamW is deprecated and will be removed in a future version. Use the PyTorch implementation torch.optim.AdamW instead, or set `no_deprecation_warning=True` to disable this warning\n",
      "  warnings.warn(\n"
     ]
    },
    {
     "data": {
      "text/html": [
       "\n",
       "    <div>\n",
       "      \n",
       "      <progress value='703' max='703' style='width:300px; height:20px; vertical-align: middle;'></progress>\n",
       "      [703/703 2:45:27, Epoch 1/1]\n",
       "    </div>\n",
       "    <table border=\"1\" class=\"dataframe\">\n",
       "  <thead>\n",
       " <tr style=\"text-align: left;\">\n",
       "      <th>Step</th>\n",
       "      <th>Training Loss</th>\n",
       "    </tr>\n",
       "  </thead>\n",
       "  <tbody>\n",
       "    <tr>\n",
       "      <td>500</td>\n",
       "      <td>6.047300</td>\n",
       "    </tr>\n",
       "  </tbody>\n",
       "</table><p>"
      ],
      "text/plain": [
       "<IPython.core.display.HTML object>"
      ]
     },
     "metadata": {},
     "output_type": "display_data"
    }
   ],
   "source": [
    "data_collator = DataCollatorForLanguageModeling(tokenizer=tokenizer, mlm=True, mlm_probability=0.15)\n",
    "training_args = TrainingArguments(\n",
    "    output_dir=\"./impgen\",\n",
    "    overwrite_output_dir=True,\n",
    "    num_train_epochs=1,\n",
    "    per_device_train_batch_size=5,\n",
    "    save_steps=100,\n",
    "    save_total_limit=2,\n",
    "    prediction_loss_only=True,\n",
    "    remove_unused_columns=False\n",
    ")\n",
    "trainer = Trainer(\n",
    "    model=model,\n",
    "    args=training_args,\n",
    "    data_collator=data_collator,\n",
    "    train_dataset=dataset[\"train\"]\n",
    ")\n",
    "trainer.train()\n",
    "trainer.save_model(\"impgen\")"
   ]
  },
  {
   "cell_type": "code",
   "execution_count": 8,
   "id": "24d0b4d4-7551-4d3f-8262-a0aee99adacd",
   "metadata": {},
   "outputs": [
    {
     "name": "stderr",
     "output_type": "stream",
     "text": [
      "The attention mask and the pad token id were not set. As a consequence, you may observe unexpected behavior. Please pass your input's `attention_mask` to obtain reliable results.\n",
      "Setting `pad_token_id` to `eos_token_id`:50256 for open-end generation.\n"
     ]
    },
    {
     "name": "stdout",
     "output_type": "stream",
     "text": [
      "There's never been very much. It's a lot of a lot of people. And we're going to be very much. We're going to have a lot of our country. And I think it. And I want to be a lot of you. And we have a very much. And it. I think it's a very much, and we're doing a lot of it's a lot. And I don't know, and we have a great. And I'm going to be\n",
      "There's never been very much. It's a lot of a lot of people. And we're going to be very much. We're going to have a lot of our country. And I think it. And I want to be a lot of you. And we have a very much. And it. I think it's a very much, and we're doing a lot of it's a lot. And I don't know, and we have a great. And I'm going to do\n",
      "There's never been very much. It's a lot of a lot of people. And we're going to be very much. We're going to have a lot of our country. And I think it. And I want to be a lot of you. And we have a very much. And it. I think it's a very much, and we're doing a lot of it's a lot. And I don't know, and we have a great. And I'm going to have\n"
     ]
    }
   ],
   "source": [
    "NEWLINECHAR = \"<N>\"\n",
    "\n",
    "def encode_newlines(inp):\n",
    "    return inp.replace(\"\\n\", NEWLINECHAR)\n",
    "\n",
    "def decode_newlines(inp):\n",
    "    return inp.replace(NEWLINECHAR, \"\\n\")\n",
    "\n",
    "inp = \"There's never been\"\n",
    "input_ids = tokenizer.encode(inp, return_tensors=\"pt\")\n",
    "model_out = model.generate(\n",
    "    input_ids,\n",
    "    max_length=100,\n",
    "    num_beams=4,\n",
    "    temperature=0.7,\n",
    "    no_repeat_ngram_size=4,\n",
    "    num_return_sequences=3,\n",
    "    return_dict_in_generate=True,\n",
    "    output_scores=True\n",
    ")\n",
    "\n",
    "for seq in model_out[\"sequences\"]:\n",
    "    print(decode_newlines(tokenizer.decode(seq)))\n",
    "        \n"
   ]
  },
  {
   "cell_type": "code",
   "execution_count": null,
   "id": "ead61123-9540-460e-a153-9a6e83c32ec1",
   "metadata": {},
   "outputs": [],
   "source": []
  }
 ],
 "metadata": {
  "kernelspec": {
   "display_name": "Python 3 (ipykernel)",
   "language": "python",
   "name": "python3"
  },
  "language_info": {
   "codemirror_mode": {
    "name": "ipython",
    "version": 3
   },
   "file_extension": ".py",
   "mimetype": "text/x-python",
   "name": "python",
   "nbconvert_exporter": "python",
   "pygments_lexer": "ipython3",
   "version": "3.9.13"
  }
 },
 "nbformat": 4,
 "nbformat_minor": 5
}
