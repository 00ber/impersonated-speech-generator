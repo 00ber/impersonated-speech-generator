{
 "cells": [
  {
   "cell_type": "code",
   "execution_count": 1,
   "id": "c007f8ee-843e-411f-aacf-31b8f177632d",
   "metadata": {},
   "outputs": [
    {
     "name": "stdout",
     "output_type": "stream",
     "text": [
      "Mon Jun 12 18:17:25 2023       \n",
      "+-----------------------------------------------------------------------------+\n",
      "| NVIDIA-SMI 525.116.04   Driver Version: 525.116.04   CUDA Version: 12.0     |\n",
      "|-------------------------------+----------------------+----------------------+\n",
      "| GPU  Name        Persistence-M| Bus-Id        Disp.A | Volatile Uncorr. ECC |\n",
      "| Fan  Temp  Perf  Pwr:Usage/Cap|         Memory-Usage | GPU-Util  Compute M. |\n",
      "|                               |                      |               MIG M. |\n",
      "|===============================+======================+======================|\n",
      "|   0  NVIDIA RTX A6000    Off  | 00000000:01:00.0 Off |                  Off |\n",
      "| 30%   40C    P5    77W / 300W |      0MiB / 49140MiB |      0%      Default |\n",
      "|                               |                      |                  N/A |\n",
      "+-------------------------------+----------------------+----------------------+\n",
      "|   1  NVIDIA RTX A6000    Off  | 00000000:41:00.0 Off |                  Off |\n",
      "| 30%   39C    P5    69W / 300W |      0MiB / 49140MiB |      0%      Default |\n",
      "|                               |                      |                  N/A |\n",
      "+-------------------------------+----------------------+----------------------+\n",
      "|   2  NVIDIA RTX A6000    Off  | 00000000:61:00.0 Off |                  Off |\n",
      "| 30%   34C    P3    81W / 300W |      0MiB / 49140MiB |      0%      Default |\n",
      "|                               |                      |                  N/A |\n",
      "+-------------------------------+----------------------+----------------------+\n",
      "                                                                               \n",
      "+-----------------------------------------------------------------------------+\n",
      "| Processes:                                                                  |\n",
      "|  GPU   GI   CI        PID   Type   Process name                  GPU Memory |\n",
      "|        ID   ID                                                   Usage      |\n",
      "|=============================================================================|\n",
      "|  No running processes found                                                 |\n",
      "+-----------------------------------------------------------------------------+\n"
     ]
    }
   ],
   "source": [
    "!nvidia-smi"
   ]
  },
  {
   "cell_type": "code",
   "execution_count": 2,
   "id": "8ae9ff64-7b6d-4490-86b0-b9ce6340d6f0",
   "metadata": {},
   "outputs": [],
   "source": [
    "import os \n",
    "os.environ[\"HF_HOME\"] =\"/fs/nexus-scratch/skarki/.cache/huggingface\""
   ]
  },
  {
   "cell_type": "code",
   "execution_count": 3,
   "id": "0036bff5-d73a-4043-a307-3166fbf08e8d",
   "metadata": {},
   "outputs": [
    {
     "name": "stderr",
     "output_type": "stream",
     "text": [
      "/nfshomes/skarki/miniconda3/envs/llm/lib/python3.9/site-packages/tqdm/auto.py:21: TqdmWarning: IProgress not found. Please update jupyter and ipywidgets. See https://ipywidgets.readthedocs.io/en/stable/user_install.html\n",
      "  from .autonotebook import tqdm as notebook_tqdm\n",
      "Loading checkpoint shards: 100%|██████████| 3/3 [00:56<00:00, 18.98s/it]\n"
     ]
    }
   ],
   "source": [
    "from transformers import AutoTokenizer, AutoModelForCausalLM\n",
    "\n",
    "tokenizer = AutoTokenizer.from_pretrained(\"eachadea/vicuna-13b-1.1\")\n",
    "model = AutoModelForCausalLM.from_pretrained(\"eachadea/vicuna-13b-1.1\", device_map=\"auto\")"
   ]
  },
  {
   "cell_type": "code",
   "execution_count": 4,
   "id": "bf825c66-7dd7-4b18-9e9a-0fba75bf3f17",
   "metadata": {},
   "outputs": [
    {
     "name": "stderr",
     "output_type": "stream",
     "text": [
      "/nfshomes/skarki/miniconda3/envs/llm/lib/python3.9/site-packages/transformers/generation/utils.py:1405: UserWarning: You are calling .generate() with the `input_ids` being on a device type different than your model's device. `input_ids` is on cpu, whereas the model is on cuda. You may experience unexpected behaviors or slower generation. Please make sure that you have put `input_ids` to the correct device by calling for example input_ids = input_ids.to('cuda') before running `.generate()`.\n",
      "  warnings.warn(\n"
     ]
    },
    {
     "name": "stdout",
     "output_type": "stream",
     "text": [
      "A chat between a curious user and an artificial intelligence assistant. The assistant gives helpful, detailed, and polite answers to the user's questions.\n",
      "USER: Instruction: Determine the speaker of the given speech based solely on the style and not the content of the speech. Your choices are Barack Obama, Donald Trump, Joe Biden, Thomas Jefferson, Abraham Lincoln, Lyndon B. Johnson, Ronald Reagan, Franklin D. Roosevelt, George W. Bush, Bill Clinton, Woodrow Wilson, Elon Musk. Don't answer with a full sentence.\n",
      "\n",
      "Speech:  Four score and seven years ago our fathers brought forth on this continent, a new nation, conceived in Liberty, and dedicated to the proposition that all men are created equal.\n",
      "\n",
      "Now we are engaged in a great civil war, testing whether that nation, or any nation so conceived and so dedicated, can long endure. We are met on a great battle-field of that war. We have come to dedicate a portion of that field, as a final resting place for those who here gave their lives that that nation might live. It is altogether fitting and proper that we should do this.\n",
      "\n",
      "ASSISTANT: TJ\n",
      "|   323 | T        | -5.430 | 0.44%\n",
      "| 29967 | J        | -0.042 | 95.86%\n",
      "|     2 | </s>     | -0.001 | 99.92%\n"
     ]
    }
   ],
   "source": [
    "import numpy as np\n",
    "system=\"A chat between a curious user and an artificial intelligence assistant. The assistant gives helpful, detailed, and polite answers to the user's questions.\"\n",
    "\n",
    "def text_wrapper(text):\n",
    "    return system + f\"\\nUSER: {text}\\nASSISTANT:\"\n",
    "\n",
    "input_text = \"\"\"Instruction: Determine the speaker of the given speech based solely on the style and not the content of the speech. Your choices are Barack Obama, Donald Trump, Joe Biden, Thomas Jefferson, Abraham Lincoln, Lyndon B. Johnson, Ronald Reagan, Franklin D. Roosevelt, George W. Bush, Bill Clinton, Woodrow Wilson, Elon Musk. Don't answer with a full sentence.\n",
    "\n",
    "Speech:  Four score and seven years ago our fathers brought forth on this continent, a new nation, conceived in Liberty, and dedicated to the proposition that all men are created equal.\n",
    "\n",
    "Now we are engaged in a great civil war, testing whether that nation, or any nation so conceived and so dedicated, can long endure. We are met on a great battle-field of that war. We have come to dedicate a portion of that field, as a final resting place for those who here gave their lives that that nation might live. It is altogether fitting and proper that we should do this.\n",
    "\"\"\"\n",
    "input_text = text_wrapper(input_text)\n",
    "\n",
    "input_ids = tokenizer.encode(input_text, return_tensors='pt', max_length=1024, truncation=True)\n",
    "output = model.generate(input_ids, max_length=1024, do_sample=True, temperature=0.7, output_scores=True, return_dict_in_generate=True)\n",
    "response = tokenizer.decode(output[\"sequences\"][0], skip_special_tokens=True)\n",
    "print(response)\n",
    "\n",
    "transition_scores = model.compute_transition_scores(\n",
    "    output.sequences, output.scores, normalize_logits=True\n",
    ")\n",
    "\n",
    "input_length = 1 if model.config.is_encoder_decoder else input_ids.shape[1]\n",
    "generated_tokens = output.sequences[:, input_length:]\n",
    "for tok, score in zip(generated_tokens[0], transition_scores[0]):\n",
    "    print(f\"| {tok:5d} | {tokenizer.decode(tok):8s} | {score.numpy():.3f} | {np.exp(score.numpy()):.2%}\")"
   ]
  },
  {
   "cell_type": "code",
   "execution_count": 5,
   "id": "3a773f87-ea55-4f36-bd4d-fa5df46069f4",
   "metadata": {},
   "outputs": [],
   "source": [
    "import pandas as pd \n",
    "\n",
    "def clean_speech(row):\n",
    "    txt = row[\"speech\"]\n",
    "    txt = txt.replace(\"\\r\", \"\")\n",
    "    txt = txt.strip()\n",
    "    return txt\n",
    "\n",
    "def split_speech(row):\n",
    "    speech = row[\"speech\"]\n",
    "    splits = []\n",
    "    if len(speech) <= 1000:\n",
    "        return [speech]\n",
    "\n",
    "    target_slice = speech\n",
    "    idx_from = 0\n",
    "    idx_to = 1000\n",
    "    done = False\n",
    "    while not done:\n",
    "        current_part = target_slice[idx_from:idx_to + 1]\n",
    "        next_part = target_slice[idx_to:].split(\"\\n\")\n",
    "        if len(next_part) == 0 or target_slice == \"\":\n",
    "            end_part = \"\"\n",
    "            done = True\n",
    "        else:\n",
    "            end_part = next_part[0]\n",
    "        target_slice = target_slice[idx_to + len(end_part) + 2:] # 1000 chars + chars until the next \\n + len(\"\\n\")\n",
    "        splits.append(current_part + end_part)\n",
    "    \n",
    "    return splits\n",
    "    \n",
    "    \n",
    "# df = pd.read_csv(\"~/personalized-llm/data/speeches/donald-trump.csv\")\n",
    "# df = pd.read_csv(\"~/personalized-llm/data/speeches/barack-obama.csv\")\n",
    "# df = pd.read_csv(\"~/personalized-llm/data/speeches/abraham-lincoln.csv\")\n",
    "# df = pd.read_csv(\"~/personalized-llm/data/speeches/joe-biden.csv\")\n",
    "# df = pd.read_csv(\"~/personalized-llm/data/speeches/thomas-jefferson.csv\")\n",
    "df = pd.read_csv(\"~/personalized-llm/data/speeches/elon-musk.csv\")\n",
    "df[\"speech\"] = df.apply(clean_speech, axis=1)\n",
    "df[\"speech\"] = df.apply(split_speech, axis=1)\n",
    "df = df.explode(\"speech\")\n",
    "df = df.reset_index()"
   ]
  },
  {
   "cell_type": "code",
   "execution_count": 6,
   "id": "a778fee3-ecee-4011-ae1c-16c47601bca6",
   "metadata": {},
   "outputs": [],
   "source": [
    "df = df.drop(['speaker', 'index'], axis=1)"
   ]
  },
  {
   "cell_type": "code",
   "execution_count": 7,
   "id": "e2fd2ccf-a33e-4841-ac29-f2642f77bc71",
   "metadata": {},
   "outputs": [
    {
     "data": {
      "text/html": [
       "<div>\n",
       "<style scoped>\n",
       "    .dataframe tbody tr th:only-of-type {\n",
       "        vertical-align: middle;\n",
       "    }\n",
       "\n",
       "    .dataframe tbody tr th {\n",
       "        vertical-align: top;\n",
       "    }\n",
       "\n",
       "    .dataframe thead th {\n",
       "        text-align: right;\n",
       "    }\n",
       "</style>\n",
       "<table border=\"1\" class=\"dataframe\">\n",
       "  <thead>\n",
       "    <tr style=\"text-align: right;\">\n",
       "      <th></th>\n",
       "      <th>speech</th>\n",
       "    </tr>\n",
       "  </thead>\n",
       "  <tbody>\n",
       "    <tr>\n",
       "      <th>0</th>\n",
       "      <td>I'll try to make this as interesting as possib...</td>\n",
       "    </tr>\n",
       "    <tr>\n",
       "      <th>2</th>\n",
       "      <td>So we had that but I wanted to do something mo...</td>\n",
       "    </tr>\n",
       "    <tr>\n",
       "      <th>4</th>\n",
       "      <td>And that's just an approximate evolution of th...</td>\n",
       "    </tr>\n",
       "    <tr>\n",
       "      <th>5</th>\n",
       "      <td>In about February of last year, I'm sure you'r...</td>\n",
       "    </tr>\n",
       "    <tr>\n",
       "      <th>6</th>\n",
       "      <td>It happened coincidentally, that in the first ...</td>\n",
       "    </tr>\n",
       "  </tbody>\n",
       "</table>\n",
       "</div>"
      ],
      "text/plain": [
       "                                              speech\n",
       "0  I'll try to make this as interesting as possib...\n",
       "2  So we had that but I wanted to do something mo...\n",
       "4  And that's just an approximate evolution of th...\n",
       "5  In about February of last year, I'm sure you'r...\n",
       "6  It happened coincidentally, that in the first ..."
      ]
     },
     "execution_count": 7,
     "metadata": {},
     "output_type": "execute_result"
    }
   ],
   "source": [
    "df = df[df[\"speech\"]!= \"\"]\n",
    "df.head()"
   ]
  },
  {
   "cell_type": "code",
   "execution_count": 8,
   "id": "308e2e20-1a5d-4d85-a448-e0aaa69d0c85",
   "metadata": {},
   "outputs": [],
   "source": [
    "def get_prediction(row):\n",
    "    speech = row[\"speech\"]\n",
    "    input_text = f\"\"\"Instruction: Determine the speaker of the given speech based solely on the style and not the content of the speech. Your choices are Barack Obama, Donald Trump, Joe Biden, Thomas Jefferson, Abraham Lincoln, Elon Musk. Respond with just the name.\n",
    "\n",
    "Speech: {speech}\n",
    "\"\"\"\n",
    "    input_text = text_wrapper(input_text)\n",
    "    input_ids = tokenizer.encode(input_text, return_tensors='pt', max_length=1024, truncation=True)\n",
    "    input_ids = input_ids.to(\"cuda\")\n",
    "    output = model.generate(input_ids, max_length=2048, do_sample=True, temperature=0.7, output_scores=True, return_dict_in_generate=True)\n",
    "    response = tokenizer.decode(output[\"sequences\"][0], skip_special_tokens=True)\n",
    "    pred = response.split(\"ASSISTANT:\")\n",
    "    \n",
    "    president = pred[1] if len(pred) > 1 else \"None\"\n",
    "    if president.endswith(\".\"):\n",
    "        president = president[:-1]\n",
    "    return president.strip()\n",
    "    \n",
    "df[\"prediction\"] = df.apply(get_prediction, axis=1)\n"
   ]
  },
  {
   "cell_type": "code",
   "execution_count": 9,
   "id": "1806e015-7dff-47c9-b478-1b890856988d",
   "metadata": {},
   "outputs": [
    {
     "data": {
      "text/plain": [
       "prediction\n",
       "Elon Musk                                                                                                                                                                                                                                                                                                                                                                                                                                                                                                                                                                                                                                                                                                                                                                                                                     746\n",
       "Thomas Jefferson                                                                                                                                                                                                                                                                                                                                                                                                                                                                                                                                                                                                                                                                                                                                                                                                              138\n",
       "Barack Obama                                                                                                                                                                                                                                                                                                                                                                                                                                                                                                                                                                                                                                                                                                                                                                                                                   31\n",
       "Donald Trump                                                                                                                                                                                                                                                                                                                                                                                                                                                                                                                                                                                                                                                                                                                                                                                                                   18\n",
       "Based on the style of the speech, it is likely that the speaker is Elon Musk                                                                                                                                                                                                                                                                                                                                                                                                                                                                                                                                                                                                                                                                                                                                                   11\n",
       "                                                                                                                                                                                                                                                                                                                                                                                                                                                                                                                                                                                                                                                                                                                                                                                                                             ... \n",
       "Based on the style of the speech, it is likely that the speaker is Elon Musk. The speaker uses a conversational tone and speaks about their personal experiences and ideas. They also use specific technical language and talk about their efforts to advance space exploration. Musk is known for his work in the fields of space exploration and technology, and has been involved in various projects such as SpaceX and Tesla                                                                                                                                                                                                                                                                                                                                                                                               1\n",
       "It is not possible to determine the speaker based solely on the style of the speech                                                                                                                                                                                                                                                                                                                                                                                                                                                                                                                                                                                                                                                                                                                                             1\n",
       "I'm sorry, but the content of the speech does not provide enough information to determine the speaker's style or personality. It is possible that the speaker could be any of the individuals listed, as the speech does not contain any distinctive language or patterns of speech that would be unique to one individual. In order to determine the speaker based solely on style, it would be necessary to have a larger sample of the speaker's speech or to have additional information about their communication style                                                                                                                                                                                                                                                                                                    1\n",
       "Joe Biden                                                                                                                                                                                                                                                                                                                                                                                                                                                                                                                                                                                                                                                                                                                                                                                                                       1\n",
       "Based solely on the style of the speech, it is difficult to determine the speaker with certainty. However, based on the language and tone of the statement, it is possible that the speaker may have a technical or engineering background and may be more comfortable with using concrete, factual language to describe a specific aspect of a product or technology. This style is often associated with individuals who are highly knowledgeable about a particular field or industry, and may be less concerned with using flowery or ornamental language. It is possible that the speaker may have a more direct and straightforward communication style, similar to individuals such as Elon Musk or Thomas Jefferson. However, without more information, it is not possible to determine the speaker with certainty      1\n",
       "Name: count, Length: 99, dtype: int64"
      ]
     },
     "execution_count": 9,
     "metadata": {},
     "output_type": "execute_result"
    }
   ],
   "source": [
    "df.prediction.value_counts()"
   ]
  },
  {
   "cell_type": "code",
   "execution_count": 10,
   "id": "6fd7aee9-32a3-4c80-965d-75cab647ab6b",
   "metadata": {},
   "outputs": [],
   "source": [
    "df.to_csv(\"elon-musk-pred-v3.csv\")"
   ]
  },
  {
   "cell_type": "code",
   "execution_count": 11,
   "id": "b183d665-a3c1-4ef5-8526-73ca11129bde",
   "metadata": {},
   "outputs": [
    {
     "data": {
      "text/plain": [
       "(1046, 2)"
      ]
     },
     "execution_count": 11,
     "metadata": {},
     "output_type": "execute_result"
    }
   ],
   "source": [
    "df.shape"
   ]
  },
  {
   "cell_type": "code",
   "execution_count": null,
   "id": "5ff04520-64b1-42aa-9221-cdfb48b64179",
   "metadata": {},
   "outputs": [],
   "source": [
    "# import json \n",
    "\n",
    "# version = 1\n",
    "# formatted_data = []\n",
    "# president = \"donald-trump\"\n",
    "# president_name = \"Donald Trump\"\n",
    "# for i, row in df2.iterrows():\n",
    "#     sentences = row.speech.split(\". \")\n",
    "#     inp = \". \".join(sentences[:4])\n",
    "#     data = {\n",
    "#             \"instruction\": f\"You are {president_name}. Complete the speech as {president_name} in the first-person.\",\n",
    "#             \"input\": inp,\n",
    "#             \"output\": row.speech\n",
    "#     }\n",
    "#     formatted_data.append(data)\n",
    "\n",
    "# outfile = f'/nfshomes/skarki/personalized-llm/data/alpaca-data/{president}-v{version}.json'\n",
    "# with open(outfile, 'w') as fout:\n",
    "#   json.dump(formatted_data , fout)\n",
    "#   fout.close()"
   ]
  }
 ],
 "metadata": {
  "kernelspec": {
   "display_name": "Python 3 (ipykernel)",
   "language": "python",
   "name": "python3"
  },
  "language_info": {
   "codemirror_mode": {
    "name": "ipython",
    "version": 3
   },
   "file_extension": ".py",
   "mimetype": "text/x-python",
   "name": "python",
   "nbconvert_exporter": "python",
   "pygments_lexer": "ipython3",
   "version": "3.9.16"
  }
 },
 "nbformat": 4,
 "nbformat_minor": 5
}
