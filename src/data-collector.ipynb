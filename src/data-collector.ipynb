{
 "cells": [
  {
   "cell_type": "code",
   "execution_count": 2,
   "id": "6c5b83ba-13fc-4d4d-b5a3-52e86d945229",
   "metadata": {},
   "outputs": [],
   "source": [
    "import json\n",
    "import requests\n",
    "import time\n",
    "from requests_cache import CachedSession, FileCache\n",
    "\n",
    "# Caches previously made requests\n",
    "session = CachedSession('http_cache', backend=FileCache())\n",
    "\n",
    "##################################################################################################\n",
    "###############  Run this code block if you are running for the first time #######################\n",
    "###                                                                                            ###\n",
    "### This code block generates a urls.json file that contains the urls containing transcripts   ###\n",
    "### of Donald Trump's speeches. If you already have a urls.json file, you don't need to run    ###\n",
    "### this block                                                                                 ###\n",
    "\n",
    "\n",
    "# BASE_URL = \"https://factba.se/transcript/{title}\"\n",
    "\n",
    "# QUERY_URL = \"https://factba.se/json/json-transcript.php?\" \n",
    "# def extract_urls():\n",
    "#     urls = []\n",
    "#     done = False\n",
    "#     page = 1\n",
    "#     while not done:\n",
    "#         params = {\n",
    "#             \"q\": None, \n",
    "#             \"p\": page, \n",
    "#             \"f\": \"w\"\n",
    "#         }\n",
    "#         res = session.get(QUERY_URL, params)\n",
    "#         res_json = res.json()\n",
    "#         if len(res_json[\"data\"]) == 0:\n",
    "#             done = True\n",
    "#         else:\n",
    "#             items = list(map(lambda x: BASE_URL.format(title=x[\"slug\"]), res_json[\"data\"]))\n",
    "#             urls += items\n",
    "#             page += 1\n",
    "#     return urls\n",
    "\n",
    "\n",
    "# with open(\"urls.json\", \"w\") as f:\n",
    "#     urls = extract_urls()\n",
    "#     f.write(json.dumps(urls))\n",
    "##################################################################################################\n",
    "##################################################################################################\n",
    "##################################################################################################"
   ]
  },
  {
   "cell_type": "code",
   "execution_count": 3,
   "id": "f48a0dd4-86df-4810-852e-3eea44962ea1",
   "metadata": {},
   "outputs": [],
   "source": [
    "import json\n",
    "with open(\"urls.json\", \"r\") as f:\n",
    "    urls = json.load(f)"
   ]
  },
  {
   "cell_type": "code",
   "execution_count": 4,
   "id": "09c08d02-c6f6-48bb-97a0-50cc92ff1f8b",
   "metadata": {},
   "outputs": [],
   "source": [
    "def get_speech_data(url):\n",
    "    slug = url.split(\"https://factba.se/transcript/\")[1]\n",
    "    res = session.get(url)\n",
    "    html_doc = res.text\n",
    "    soup = BeautifulSoup(html_doc, 'html.parser')\n",
    "    title_tag = soup.find(\"h1\", class_=\"topic-page-header transcript-header\")\n",
    "    title = title_tag.text\n",
    "    resultsblock = soup.find_all(\"div\", class_=\"media topic-media-row mediahover\")\n",
    "    items = []\n",
    "    for block in resultsblock:\n",
    "        speaker = block.find(\"div\", class_=\"speaker-label\").text\n",
    "        speech = block.find(\"div\", class_=\"transcript-text-block\").text\n",
    "        if speaker == \"Donald Trump\":\n",
    "            items.append(speech)\n",
    "    data = {\n",
    "        \"slug\": slug,\n",
    "        \"title\": title, \n",
    "        \"url\": url,\n",
    "        \"transcript\": \"\".join(items)\n",
    "    }\n",
    "    return data"
   ]
  },
  {
   "cell_type": "code",
   "execution_count": 5,
   "id": "db620cbc-ada8-4a62-aa36-f7d32fa3f334",
   "metadata": {},
   "outputs": [],
   "source": [
    "from joblib import Memory\n",
    "location = './cachedir'\n",
    "memory = Memory(location, verbose=0)\n",
    "\n",
    "get_speech_data = memory.cache(get_speech_data)\n",
    "\n",
    "dataset = []\n",
    "\n",
    "for i, url in enumerate(urls):\n",
    "    # print(f\"{i}. URL: {url}\")\n",
    "    d = get_speech_data(url)\n",
    "    dataset.append(d)\n",
    "    # time.sleep(0.2)"
   ]
  },
  {
   "cell_type": "code",
   "execution_count": 6,
   "id": "58584551-aef6-4384-8db4-7f4676481c66",
   "metadata": {},
   "outputs": [],
   "source": [
    "import pandas as pd \n",
    "\n",
    "df = pd.DataFrame(dataset)"
   ]
  },
  {
   "cell_type": "code",
   "execution_count": 11,
   "id": "93a8438e-b3e6-4c67-96fa-114a63f4e2b1",
   "metadata": {},
   "outputs": [
    {
     "data": {
      "text/html": [
       "<div>\n",
       "<style scoped>\n",
       "    .dataframe tbody tr th:only-of-type {\n",
       "        vertical-align: middle;\n",
       "    }\n",
       "\n",
       "    .dataframe tbody tr th {\n",
       "        vertical-align: top;\n",
       "    }\n",
       "\n",
       "    .dataframe thead th {\n",
       "        text-align: right;\n",
       "    }\n",
       "</style>\n",
       "<table border=\"1\" class=\"dataframe\">\n",
       "  <thead>\n",
       "    <tr style=\"text-align: right;\">\n",
       "      <th></th>\n",
       "      <th>slug</th>\n",
       "      <th>title</th>\n",
       "      <th>url</th>\n",
       "      <th>transcript</th>\n",
       "    </tr>\n",
       "  </thead>\n",
       "  <tbody>\n",
       "    <tr>\n",
       "      <th>0</th>\n",
       "      <td>donald-trump-press-gaggle-marine-one-departure...</td>\n",
       "      <td>Press Gaggle: Donald Trump Speaks to the Press...</td>\n",
       "      <td>https://factba.se/transcript/donald-trump-pres...</td>\n",
       "      <td>It has been a great honor. The honor of a life...</td>\n",
       "    </tr>\n",
       "    <tr>\n",
       "      <th>1</th>\n",
       "      <td>donald-trump-remarks-final-joint-base-andrews-...</td>\n",
       "      <td>Remarks: Donald Trump at Joint Base Andrews Be...</td>\n",
       "      <td>https://factba.se/transcript/donald-trump-rema...</td>\n",
       "      <td>Thank you. Thank you very much. Thank you. [Au...</td>\n",
       "    </tr>\n",
       "    <tr>\n",
       "      <th>2</th>\n",
       "      <td>donald-trump-speech-farewell-address-january-1...</td>\n",
       "      <td>Speech: Donald Trump Delivers His Farewell Add...</td>\n",
       "      <td>https://factba.se/transcript/donald-trump-spee...</td>\n",
       "      <td>My fellow Americans: Four years ago, we launch...</td>\n",
       "    </tr>\n",
       "    <tr>\n",
       "      <th>3</th>\n",
       "      <td>donald-trump-vlog-non-violence-peaceful-transi...</td>\n",
       "      <td>Donald Trump Vlog: January 6th Insurrection an...</td>\n",
       "      <td>https://factba.se/transcript/donald-trump-vlog...</td>\n",
       "      <td>My fellow Americans. I want to speak to you to...</td>\n",
       "    </tr>\n",
       "    <tr>\n",
       "      <th>4</th>\n",
       "      <td>donald-trump-press-gaggle-air-force-one-depart...</td>\n",
       "      <td>Press Gaggle: Donald Trump Speaks to the Press...</td>\n",
       "      <td>https://factba.se/transcript/donald-trump-pres...</td>\n",
       "      <td>I think that big tech is doing a horrible thin...</td>\n",
       "    </tr>\n",
       "  </tbody>\n",
       "</table>\n",
       "</div>"
      ],
      "text/plain": [
       "                                                slug  \\\n",
       "0  donald-trump-press-gaggle-marine-one-departure...   \n",
       "1  donald-trump-remarks-final-joint-base-andrews-...   \n",
       "2  donald-trump-speech-farewell-address-january-1...   \n",
       "3  donald-trump-vlog-non-violence-peaceful-transi...   \n",
       "4  donald-trump-press-gaggle-air-force-one-depart...   \n",
       "\n",
       "                                               title  \\\n",
       "0  Press Gaggle: Donald Trump Speaks to the Press...   \n",
       "1  Remarks: Donald Trump at Joint Base Andrews Be...   \n",
       "2  Speech: Donald Trump Delivers His Farewell Add...   \n",
       "3  Donald Trump Vlog: January 6th Insurrection an...   \n",
       "4  Press Gaggle: Donald Trump Speaks to the Press...   \n",
       "\n",
       "                                                 url  \\\n",
       "0  https://factba.se/transcript/donald-trump-pres...   \n",
       "1  https://factba.se/transcript/donald-trump-rema...   \n",
       "2  https://factba.se/transcript/donald-trump-spee...   \n",
       "3  https://factba.se/transcript/donald-trump-vlog...   \n",
       "4  https://factba.se/transcript/donald-trump-pres...   \n",
       "\n",
       "                                          transcript  \n",
       "0  It has been a great honor. The honor of a life...  \n",
       "1  Thank you. Thank you very much. Thank you. [Au...  \n",
       "2  My fellow Americans: Four years ago, we launch...  \n",
       "3  My fellow Americans. I want to speak to you to...  \n",
       "4  I think that big tech is doing a horrible thin...  "
      ]
     },
     "execution_count": 11,
     "metadata": {},
     "output_type": "execute_result"
    }
   ],
   "source": [
    "df.head()"
   ]
  },
  {
   "cell_type": "code",
   "execution_count": 12,
   "id": "b95964e7-cdcf-420c-b6fa-e836a37df501",
   "metadata": {},
   "outputs": [
    {
     "data": {
      "text/plain": [
       "(3501, 4)"
      ]
     },
     "execution_count": 12,
     "metadata": {},
     "output_type": "execute_result"
    }
   ],
   "source": [
    "df.shape"
   ]
  },
  {
   "cell_type": "code",
   "execution_count": 13,
   "id": "1fa4fb07-c704-4778-82d9-d658f634b587",
   "metadata": {},
   "outputs": [],
   "source": [
    "df.to_csv(\"./data/trump-speech-data.csv\")"
   ]
  },
  {
   "cell_type": "code",
   "execution_count": null,
   "id": "66ffafd1-fc6d-46c3-86cc-f02d14b5267f",
   "metadata": {},
   "outputs": [],
   "source": []
  }
 ],
 "metadata": {
  "kernelspec": {
   "display_name": "Python 3 (ipykernel)",
   "language": "python",
   "name": "python3"
  },
  "language_info": {
   "codemirror_mode": {
    "name": "ipython",
    "version": 3
   },
   "file_extension": ".py",
   "mimetype": "text/x-python",
   "name": "python",
   "nbconvert_exporter": "python",
   "pygments_lexer": "ipython3",
   "version": "3.9.13"
  }
 },
 "nbformat": 4,
 "nbformat_minor": 5
}
